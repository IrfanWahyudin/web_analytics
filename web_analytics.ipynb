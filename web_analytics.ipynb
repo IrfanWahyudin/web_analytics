{
 "cells": [
  {
   "cell_type": "code",
   "execution_count": 24,
   "metadata": {},
   "outputs": [],
   "source": [
    "from app.models import Location\n",
    "from app import db\n",
    "import ast"
   ]
  },
  {
   "cell_type": "code",
   "execution_count": 25,
   "metadata": {},
   "outputs": [],
   "source": [
    "location = db.session.query(Location).first()"
   ]
  },
  {
   "cell_type": "code",
   "execution_count": 26,
   "metadata": {},
   "outputs": [
    {
     "data": {
      "text/plain": [
       "Planet Bekasi|    106.961782,-6.211807, 107.047956,-6.211807, 107.047956,-6.257677, 106.961782,-6.257677, 106.961782,-6.211807|None|Jl Bekasi|Bekasi"
      ]
     },
     "execution_count": 26,
     "metadata": {},
     "output_type": "execute_result"
    }
   ],
   "source": [
    "location"
   ]
  },
  {
   "cell_type": "code",
   "execution_count": 27,
   "metadata": {},
   "outputs": [
    {
     "data": {
      "text/plain": [
       "'    106.961782,-6.211807, 107.047956,-6.211807, 107.047956,-6.257677, 106.961782,-6.257677, 106.961782,-6.211807'"
      ]
     },
     "execution_count": 27,
     "metadata": {},
     "output_type": "execute_result"
    }
   ],
   "source": [
    "location.lat_long"
   ]
  },
  {
   "attachments": {
    "image.png": {
     "image/png": "[encoded data removed]"
    }
   },
   "cell_type": "markdown",
   "metadata": {},
   "source": [
    "# Desired format #\n",
    "![image.png](attachment:image.png)"
   ]
  },
  {
   "cell_type": "markdown",
   "metadata": {},
   "source": [
    "# 1. Trim the string #"
   ]
  },
  {
   "cell_type": "code",
   "execution_count": 28,
   "metadata": {},
   "outputs": [
    {
     "data": {
      "text/plain": [
       "'106.961782,-6.211807, 107.047956,-6.211807, 107.047956,-6.257677, 106.961782,-6.257677, 106.961782,-6.211807'"
      ]
     },
     "execution_count": 28,
     "metadata": {},
     "output_type": "execute_result"
    }
   ],
   "source": [
    "lat_long = location.lat_long.strip()\n",
    "lat_long"
   ]
  },
  {
   "cell_type": "markdown",
   "metadata": {},
   "source": [
    "# 2. Convert the string to python object e.g Tuple, List etc. using ast.literal_eval funtion #"
   ]
  },
  {
   "cell_type": "code",
   "execution_count": 29,
   "metadata": {},
   "outputs": [
    {
     "data": {
      "text/plain": [
       "(106.961782,\n",
       " -6.211807,\n",
       " 107.047956,\n",
       " -6.211807,\n",
       " 107.047956,\n",
       " -6.257677,\n",
       " 106.961782,\n",
       " -6.257677,\n",
       " 106.961782,\n",
       " -6.211807)"
      ]
     },
     "execution_count": 29,
     "metadata": {},
     "output_type": "execute_result"
    }
   ],
   "source": [
    "lat_long = ast.literal_eval(lat_long)\n",
    "lat_long"
   ]
  },
  {
   "cell_type": "markdown",
   "metadata": {},
   "source": [
    "# 3. Convert to List #"
   ]
  },
  {
   "cell_type": "code",
   "execution_count": 31,
   "metadata": {},
   "outputs": [
    {
     "data": {
      "text/plain": [
       "[106.961782,\n",
       " -6.211807,\n",
       " 107.047956,\n",
       " -6.211807,\n",
       " 107.047956,\n",
       " -6.257677,\n",
       " 106.961782,\n",
       " -6.257677,\n",
       " 106.961782,\n",
       " -6.211807]"
      ]
     },
     "execution_count": 31,
     "metadata": {},
     "output_type": "execute_result"
    }
   ],
   "source": [
    "lat_long = list(lat_long)\n",
    "lat_long"
   ]
  },
  {
   "cell_type": "markdown",
   "metadata": {},
   "source": [
    "# 4. Leaflet polygon format is require the coordinate we taken from the boundingbox to be reverse. So we need to reverse the list #"
   ]
  },
  {
   "cell_type": "code",
   "execution_count": 32,
   "metadata": {},
   "outputs": [
    {
     "data": {
      "text/plain": [
       "[-6.211807,\n",
       " 106.961782,\n",
       " -6.257677,\n",
       " 106.961782,\n",
       " -6.257677,\n",
       " 107.047956,\n",
       " -6.211807,\n",
       " 107.047956,\n",
       " -6.211807,\n",
       " 106.961782]"
      ]
     },
     "execution_count": 32,
     "metadata": {},
     "output_type": "execute_result"
    }
   ],
   "source": [
    "lat_long.reverse()\n",
    "lat_long"
   ]
  },
  {
   "cell_type": "markdown",
   "metadata": {},
   "source": [
    "# 5. Group each points #"
   ]
  },
  {
   "cell_type": "code",
   "execution_count": 36,
   "metadata": {},
   "outputs": [],
   "source": [
    "new_lat_long = list()\n",
    "long_idx = 1\n",
    "for idx, row in enumerate(lat_long[::2]):\n",
    "    new_lat_long.append([row, lat_long[long_idx]])\n",
    "    long_idx+=2"
   ]
  },
  {
   "cell_type": "code",
   "execution_count": 38,
   "metadata": {},
   "outputs": [
    {
     "data": {
      "text/plain": [
       "[[-6.211807, 106.961782],\n",
       " [-6.257677, 106.961782],\n",
       " [-6.257677, 107.047956],\n",
       " [-6.211807, 107.047956],\n",
       " [-6.211807, 106.961782]]"
      ]
     },
     "execution_count": 38,
     "metadata": {},
     "output_type": "execute_result"
    }
   ],
   "source": [
    "new_lat_long"
   ]
  },
  {
   "cell_type": "markdown",
   "metadata": {},
   "source": [
    "# ;) #"
   ]
  },
  {
   "cell_type": "code",
   "execution_count": null,
   "metadata": {},
   "outputs": [],
   "source": []
  }
 ],
 "metadata": {
  "kernelspec": {
   "display_name": "Python 3",
   "language": "python",
   "name": "python3"
  },
  "language_info": {
   "codemirror_mode": {
    "name": "ipython",
    "version": 3
   },
   "file_extension": ".py",
   "mimetype": "text/x-python",
   "name": "python",
   "nbconvert_exporter": "python",
   "pygments_lexer": "ipython3",
   "version": "3.7.3"
  }
 },
 "nbformat": 4,
 "nbformat_minor": 2
}
